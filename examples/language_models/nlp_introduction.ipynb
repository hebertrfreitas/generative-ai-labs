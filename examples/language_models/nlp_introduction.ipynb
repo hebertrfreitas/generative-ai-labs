{
 "cells": [
  {
   "cell_type": "markdown",
   "id": "c66528deeb898591",
   "metadata": {
    "collapsed": false
   },
   "source": [
    "# Introdução a NLP - Treinando um pequeno modelo de linguagem\n",
    "\n",
    "#### OBS: Exemplo puramente acadêmico"
   ]
  },
  {
   "cell_type": "code",
   "execution_count": 67,
   "id": "6a5a7f87f01bae0f",
   "metadata": {
    "collapsed": false,
    "is_executing": true
   },
   "outputs": [
    {
     "name": "stdout",
     "output_type": "stream",
     "text": [
      "Requirement already satisfied: nltk in ./.venv/lib/python3.12/site-packages (3.9.1)\n",
      "Requirement already satisfied: click in ./.venv/lib/python3.12/site-packages (from nltk) (8.2.1)\n",
      "Requirement already satisfied: joblib in ./.venv/lib/python3.12/site-packages (from nltk) (1.5.2)\n",
      "Requirement already satisfied: regex>=2021.8.3 in ./.venv/lib/python3.12/site-packages (from nltk) (2025.9.1)\n",
      "Requirement already satisfied: tqdm in ./.venv/lib/python3.12/site-packages (from nltk) (4.67.1)\n",
      "\n",
      "\u001b[1m[\u001b[0m\u001b[34;49mnotice\u001b[0m\u001b[1;39;49m]\u001b[0m\u001b[39;49m A new release of pip is available: \u001b[0m\u001b[31;49m23.2.1\u001b[0m\u001b[39;49m -> \u001b[0m\u001b[32;49m25.2\u001b[0m\n",
      "\u001b[1m[\u001b[0m\u001b[34;49mnotice\u001b[0m\u001b[1;39;49m]\u001b[0m\u001b[39;49m To update, run: \u001b[0m\u001b[32;49mpip install --upgrade pip\u001b[0m\n"
     ]
    }
   ],
   "source": [
    "! pip install nltk"
   ]
  },
  {
   "cell_type": "code",
   "execution_count": 68,
   "id": "30fcd6235b6216e5",
   "metadata": {
    "collapsed": false
   },
   "outputs": [],
   "source": [
    "import nltk\n",
    "from nltk import tokenize"
   ]
  },
  {
   "cell_type": "code",
   "execution_count": 69,
   "id": "12c55345",
   "metadata": {},
   "outputs": [
    {
     "name": "stderr",
     "output_type": "stream",
     "text": [
      "[nltk_data] Downloading package punkt to\n",
      "[nltk_data]     /Users/hebertfreitas/nltk_data...\n",
      "[nltk_data]   Package punkt is already up-to-date!\n"
     ]
    },
    {
     "data": {
      "text/plain": [
       "True"
      ]
     },
     "execution_count": 69,
     "metadata": {},
     "output_type": "execute_result"
    }
   ],
   "source": [
    "nltk.download('punkt')"
   ]
  },
  {
   "cell_type": "code",
   "execution_count": 70,
   "id": "306e83b4",
   "metadata": {},
   "outputs": [],
   "source": [
    "corpus = \"\"\"No meio do caminho tinha uma pedra\n",
    "Tinha uma pedra no meio do caminho\n",
    "Tinha uma pedra\n",
    "No meio do caminho tinha uma pedra\"\"\""
   ]
  },
  {
   "cell_type": "code",
   "execution_count": 71,
   "id": "0785a8a7",
   "metadata": {},
   "outputs": [
    {
     "data": {
      "text/plain": [
       "['no meio do caminho tinha uma pedra',\n",
       " 'tinha uma pedra no meio do caminho',\n",
       " 'tinha uma pedra',\n",
       " 'no meio do caminho tinha uma pedra']"
      ]
     },
     "execution_count": 71,
     "metadata": {},
     "output_type": "execute_result"
    }
   ],
   "source": [
    "text = corpus.lower().split('\\n')\n",
    "text"
   ]
  },
  {
   "cell_type": "code",
   "execution_count": 72,
   "id": "8fe83ff6",
   "metadata": {},
   "outputs": [
    {
     "data": {
      "text/plain": [
       "[['no', 'meio', 'do', 'caminho', 'tinha', 'uma', 'pedra'],\n",
       " ['tinha', 'uma', 'pedra', 'no', 'meio', 'do', 'caminho'],\n",
       " ['tinha', 'uma', 'pedra'],\n",
       " ['no', 'meio', 'do', 'caminho', 'tinha', 'uma', 'pedra']]"
      ]
     },
     "execution_count": 72,
     "metadata": {},
     "output_type": "execute_result"
    }
   ],
   "source": [
    "tokenized_text = []\n",
    "\n",
    "for item in text:\n",
    "    tokens = nltk.word_tokenize(item, language='portuguese')\n",
    "    tokenized_text.append(tokens)\n",
    "\n",
    "tokenized_text"
   ]
  },
  {
   "cell_type": "code",
   "execution_count": 73,
   "id": "88dea8b9",
   "metadata": {},
   "outputs": [],
   "source": [
    "from nltk.lm.preprocessing import padded_everygram_pipeline\n",
    "\n",
    "ngrams = 2\n",
    "\n",
    "ngrams_pad, vocab = padded_everygram_pipeline(ngrams,tokenized_text)\n",
    "\n"
   ]
  },
  {
   "cell_type": "markdown",
   "id": "cb6395cc",
   "metadata": {},
   "source": [
    "## treinando o modelo "
   ]
  },
  {
   "cell_type": "code",
   "execution_count": null,
   "id": "c78dcfc5",
   "metadata": {},
   "outputs": [],
   "source": [
    "from nltk.lm import MLE\n",
    "\n",
    "lm = MLE(ngrams)\n",
    "lm.fit(ngrams_pad, vocab)"
   ]
  },
  {
   "cell_type": "markdown",
   "id": "e2c2f930",
   "metadata": {},
   "source": [
    "## Testando geração de texto"
   ]
  },
  {
   "cell_type": "code",
   "execution_count": 75,
   "id": "66d9b255",
   "metadata": {},
   "outputs": [
    {
     "data": {
      "text/plain": [
       "['caminho', 'tinha', 'uma', 'pedra']"
      ]
     },
     "execution_count": 75,
     "metadata": {},
     "output_type": "execute_result"
    }
   ],
   "source": [
    "lm.generate(num_words=4, text_seed=\"<s>\")"
   ]
  },
  {
   "cell_type": "markdown",
   "id": "6c9b66e6",
   "metadata": {},
   "source": [
    "## Calculando probabilidades da próxima palavra dado um contexto"
   ]
  },
  {
   "cell_type": "code",
   "execution_count": 77,
   "id": "98120644",
   "metadata": {},
   "outputs": [
    {
     "data": {
      "text/plain": [
       "0.3333333333333333"
      ]
     },
     "execution_count": 77,
     "metadata": {},
     "output_type": "execute_result"
    }
   ],
   "source": [
    "lm.score(\"</s>\", context=[\"caminho\"])"
   ]
  }
 ],
 "metadata": {
  "kernelspec": {
   "display_name": ".venv",
   "language": "python",
   "name": "python3"
  },
  "language_info": {
   "codemirror_mode": {
    "name": "ipython",
    "version": 3
   },
   "file_extension": ".py",
   "mimetype": "text/x-python",
   "name": "python",
   "nbconvert_exporter": "python",
   "pygments_lexer": "ipython3",
   "version": "3.12.0"
  }
 },
 "nbformat": 4,
 "nbformat_minor": 5
}
