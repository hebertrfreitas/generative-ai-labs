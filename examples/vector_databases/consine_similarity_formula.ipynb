{
 "cells": [
  {
   "cell_type": "markdown",
   "metadata": {},
   "source": [
    "# Exemplo de formula de cálculo de similaridade de coseno"
   ]
  },
  {
   "cell_type": "code",
   "execution_count": 6,
   "metadata": {},
   "outputs": [],
   "source": [
    "from math import sqrt, pow\n",
    "def cosine_similarity(a, b):\n",
    "    scalar_product = (a[0] * b[0] + a[1] * b[1] + a[2] * b[2])\n",
    "    print(f'scalar_product: {scalar_product}')\n",
    "    norm_A = sqrt(pow(a[0], 2) + pow(a[1], 2) + pow(a[2], 2))\n",
    "    print(f'norm_A: {norm_A}')\n",
    "    norm_B = sqrt(pow(b[0], 2) + pow(b[1], 2) + pow(b[2], 2))\n",
    "    print(f'norm_B: {norm_B}')\n",
    "    similarity = scalar_product / (norm_A * norm_B)\n",
    "    print(f'similarity: {similarity}')\n",
    "    return similarity\n"
   ]
  },
  {
   "cell_type": "code",
   "execution_count": 7,
   "metadata": {},
   "outputs": [
    {
     "name": "stdout",
     "output_type": "stream",
     "text": [
      "scalar_product: 17\n",
      "norm_A: 3.7416573867739413\n",
      "norm_B: 4.58257569495584\n",
      "similarity: 0.9914601339836675\n"
     ]
    },
    {
     "data": {
      "text/plain": [
       "0.9914601339836675"
      ]
     },
     "execution_count": 7,
     "metadata": {},
     "output_type": "execute_result"
    }
   ],
   "source": [
    "a = [1, 2, 3]\n",
    "b = [1, 2, 4]\n",
    "\n",
    "cosine_similarity(a,b)\n"
   ]
  },
  {
   "cell_type": "code",
   "execution_count": 9,
   "metadata": {},
   "outputs": [
    {
     "name": "stdout",
     "output_type": "stream",
     "text": [
      "scalar_product: 29\n",
      "norm_A: 3.7416573867739413\n",
      "norm_B: 8.306623862918075\n",
      "similarity: 0.9330597055272909\n"
     ]
    },
    {
     "data": {
      "text/plain": [
       "0.9330597055272909"
      ]
     },
     "execution_count": 9,
     "metadata": {},
     "output_type": "execute_result"
    }
   ],
   "source": [
    "a = [1, 2, 3]\n",
    "b = [1, 2, 8]\n",
    "cosine_similarity(a,b)"
   ]
  }
 ],
 "metadata": {
  "kernelspec": {
   "display_name": ".venv",
   "language": "python",
   "name": "python3"
  },
  "language_info": {
   "codemirror_mode": {
    "name": "ipython",
    "version": 3
   },
   "file_extension": ".py",
   "mimetype": "text/x-python",
   "name": "python",
   "nbconvert_exporter": "python",
   "pygments_lexer": "ipython3",
   "version": "3.10.13"
  }
 },
 "nbformat": 4,
 "nbformat_minor": 2
}
